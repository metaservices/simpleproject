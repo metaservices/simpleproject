{
 "cells": [
  {
   "cell_type": "code",
   "execution_count": 46,
   "metadata": {},
   "outputs": [],
   "source": [
    "__STUB__USER_ID__ = 24\n",
    "__STUB__USER_LOGIN__ = 'user28713876'\n",
    "__STUB__USER_COUNTRY_CODE__ = 'UA'\n",
    "\n",
    "\n",
    "\n",
    "USERS = {}\n",
    "USER_ORDERS = {}\n",
    "USER_CATEGORY_RULES = {\n",
    "    24: [    \n",
    "        {'id': 6, 'name': 'category2398471207', 'is_availabe': True},\n",
    "        {'id': 666, 'name': 'category02175497932', 'is_availabe': False}\n",
    "    ]\n",
    "}\n",
    "\n",
    "\n",
    "\n",
    "\n",
    "def __CORE__user_hash_key(login, password):\n",
    "    return 'TEST-'+str(hash(login))+'-'+str(hash(password))\n",
    "\n",
    "\n",
    "\n",
    "\n",
    "\n",
    "\n",
    "def __stub__register_user(login, password):\n",
    "    user = {'id': __STUB__USER_ID__, 'login': login, 'country_code': __STUB__USER_COUNTRY_CODE__}\n",
    "    __obj__userkey__ = __CORE__user_hash_key(login, password)\n",
    "    dict.update(USERS, {__obj__userkey__: user})\n",
    "    return USERS.get(__obj__userkey__)\n",
    "\n",
    "def __stub__login_user(login, password):\n",
    "    __obj__userkey__ = __CORE__user_hash_key(login, password)\n",
    "    user = USERS.get(__obj__userkey__, None)\n",
    "    if user == None:\n",
    "        print('User Login failed!')\n",
    "        return None\n",
    "    return user\n",
    "\n",
    "\n",
    "\n",
    "\n",
    "\n",
    "\n",
    "def __test__get_current_user():\n",
    "    user = __STUB__USER_LOGIN__\n",
    "    return user\n",
    "\n",
    "\n",
    "\n",
    "\n",
    "\n",
    "\n",
    "\n",
    "\n",
    "def __test__create_user(login):\n",
    "    user = __stub__register_user(login, hash(login))\n",
    "    return True if 'id' in user else False\n",
    "\n",
    "def __get__category_rules(user_id):\n",
    "    rules = USER_CATEGORY_RULES[user_id]\n",
    "    return rules\n",
    "\n",
    "\n",
    "def __get__orders(login):\n",
    "    user = __stub__login_user(login, hash(login))\n",
    "    if user == None: return 401\n",
    "    user_id = user.get('id')\n",
    "    \n",
    "    \n",
    "    current_orders = USER_ORDERS.get(user_id, [])\n",
    "    return current_orders\n",
    "\n",
    "def __create_order():\n",
    "    user = __stub__login_user(login, hash(login))\n",
    "    if user == None: return 401\n",
    "    user_id = user.get('id')\n",
    "    \n",
    "    # bla-bla...\n",
    "    \n",
    "    return 0\n",
    "\n",
    "def __get__available_good_variants_by_user(user_id):\n",
    "    rules = USER_CATEGORY_RULES[user_id]\n",
    "    return rules\n",
    "\n",
    "def __test_create_order(login):\n",
    "    user = __stub__login_user(login, hash(login))\n",
    "    user_id = user.get('id')\n",
    "    current_orders = USER_ORDERS.get(user_id, [])\n",
    "    \n",
    "    goods = __get__available_good_variants_by_user(user_id)\n",
    "    \n",
    "    selected_good_variants = [goods[0], goods[2]]\n",
    "    \n",
    "    order = __create_order(user_id, )\n",
    "    current_orders.append(order)\n",
    "    dict.update(USER_ORDERS, {user_id: current_orders})\n",
    "    "
   ]
  },
  {
   "cell_type": "code",
   "execution_count": 53,
   "metadata": {},
   "outputs": [],
   "source": [
    "def __test__scenario_1():\n",
    "    if __test__create_user(__STUB__USER_LOGIN__):\n",
    "        user = __stub__login_user(__STUB__USER_LOGIN__, hash(__STUB__USER_LOGIN__))\n",
    "        if user == None: return 401\n",
    "        user_id = user.get('id', None)\n",
    "        if user_id == None: return 500\n",
    "    else:\n",
    "        print(\"user creation error\")\n",
    "        return 5\n",
    "    return 0"
   ]
  },
  {
   "cell_type": "code",
   "execution_count": 59,
   "metadata": {},
   "outputs": [],
   "source": [
    "def __test__scenario_2():\n",
    "    user = __stub__login_user(__STUB__USER_LOGIN__, hash(__STUB__USER_LOGIN__))\n",
    "    if user == None: return 401\n",
    "    user_id = user.get('id')\n",
    "    \n",
    "    # WARN: WE KNOW, that there is only 2 rules. \n",
    "    # First one is available for user country and second is not\n",
    "    (category_valid, category_invalid) = __get__available_good_variants_by_user(user_id)\n",
    "\n",
    "    if not category_valid.get('is_availabe') or category_invalid.get('is_availabe'): return 1\n",
    "    return 0"
   ]
  },
  {
   "cell_type": "code",
   "execution_count": 60,
   "metadata": {},
   "outputs": [],
   "source": [
    "def __test__scenario_3():\n",
    "    return 0"
   ]
  },
  {
   "cell_type": "code",
   "execution_count": 61,
   "metadata": {},
   "outputs": [],
   "source": [
    "def __test__scenario_4():\n",
    "    return 0"
   ]
  },
  {
   "cell_type": "code",
   "execution_count": 64,
   "metadata": {},
   "outputs": [],
   "source": [
    "def main():\n",
    "    if __test__scenario_1() == 0: # if user created\n",
    "        if __test__scenario_2() == 0: # if category rules works!\n",
    "            if __test__scenario_3() == 0: # if goods from available category added to order\n",
    "                if __test__scenario_4() == 0: # if price corresponds multiplier\n",
    "                    print(__get__orders(__STUB__USER_LOGIN__))\n",
    "                else: return 4\n",
    "            else: return 3\n",
    "        else: return 2\n",
    "    else: return 1\n",
    "    return 0"
   ]
  },
  {
   "cell_type": "code",
   "execution_count": 65,
   "metadata": {},
   "outputs": [
    {
     "name": "stdout",
     "output_type": "stream",
     "text": [
      "[]\n"
     ]
    },
    {
     "data": {
      "text/plain": [
       "0"
      ]
     },
     "execution_count": 65,
     "metadata": {},
     "output_type": "execute_result"
    }
   ],
   "source": [
    "main()"
   ]
  },
  {
   "cell_type": "code",
   "execution_count": null,
   "metadata": {},
   "outputs": [],
   "source": []
  },
  {
   "cell_type": "code",
   "execution_count": null,
   "metadata": {},
   "outputs": [],
   "source": []
  }
 ],
 "metadata": {
  "kernelspec": {
   "display_name": "Python 3",
   "language": "python",
   "name": "python3"
  },
  "language_info": {
   "codemirror_mode": {
    "name": "ipython",
    "version": 3
   },
   "file_extension": ".py",
   "mimetype": "text/x-python",
   "name": "python",
   "nbconvert_exporter": "python",
   "pygments_lexer": "ipython3",
   "version": "3.8.2"
  }
 },
 "nbformat": 4,
 "nbformat_minor": 4
}
